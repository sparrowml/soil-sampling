{
 "cells": [
  {
   "cell_type": "code",
   "execution_count": 1,
   "id": "3fcbed65",
   "metadata": {},
   "outputs": [],
   "source": [
    "import requests\n",
    "from urllib.parse import quote"
   ]
  },
  {
   "cell_type": "code",
   "execution_count": 12,
   "id": "7f3c1a38",
   "metadata": {},
   "outputs": [],
   "source": [
    "polygon = \"[[-97.00449252110398,41.16957981959309],[-97.00432050553388,41.16267347064354],[-96.9993033847341,41.16245763550959],[-96.9996474158748,41.16366630310241],[-96.99927471547274,41.165544010323515],[-96.99944673104284,41.16955823838636],[-97.00449252110398,41.16957981959309]]\""
   ]
  },
  {
   "cell_type": "code",
   "execution_count": 23,
   "id": "0d77407c",
   "metadata": {},
   "outputs": [],
   "source": [
    "# url = f\"https://mx1ma4nff6.execute-api.us-east-1.amazonaws.com/dev/uniform?polygon={quote(polygon)}\"\n",
    "url = f\"http://localhost:5000/uniform?polygon={quote(polygon)}\""
   ]
  },
  {
   "cell_type": "code",
   "execution_count": 24,
   "id": "12b1509c",
   "metadata": {},
   "outputs": [
    {
     "data": {
      "text/plain": [
       "[[6719995.121421659, 9491038.886379953],\n",
       " [6721252.153957016, 9491038.886379953],\n",
       " [6721252.153957016, 9490303.176733386],\n",
       " [6719995.121421659, 9490303.176733386]]"
      ]
     },
     "execution_count": 24,
     "metadata": {},
     "output_type": "execute_result"
    }
   ],
   "source": [
    "requests.get(url).json()"
   ]
  },
  {
   "cell_type": "code",
   "execution_count": null,
   "id": "0f87e96c",
   "metadata": {},
   "outputs": [],
   "source": []
  }
 ],
 "metadata": {
  "kernelspec": {
   "display_name": "Python 3",
   "language": "python",
   "name": "python3"
  },
  "language_info": {
   "codemirror_mode": {
    "name": "ipython",
    "version": 3
   },
   "file_extension": ".py",
   "mimetype": "text/x-python",
   "name": "python",
   "nbconvert_exporter": "python",
   "pygments_lexer": "ipython3",
   "version": "3.9.1"
  }
 },
 "nbformat": 4,
 "nbformat_minor": 5
}
